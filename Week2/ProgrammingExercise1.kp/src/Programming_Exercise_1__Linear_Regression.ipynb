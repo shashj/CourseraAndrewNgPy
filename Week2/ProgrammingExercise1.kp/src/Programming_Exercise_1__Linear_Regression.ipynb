{
 "cells": [
  {
   "cell_type": "raw",
   "metadata": {},
   "source": [
    "---\n",
    "title: Linear Regression - Programming Exercise 1\n",
    "authors:\n",
    "- Shashank Jatav\n",
    "tags:\n",
    "- coursera\n",
    "- andrew\n",
    "- machine_learning\n",
    "created_at: 2018-08-15\n",
    "updated_at: 2018-08-15\n",
    "tldr: This is a python implementation of the week 2 exercise in Andrew ng's course for machine learning\n",
    "---"
   ]
  },
  {
   "cell_type": "markdown",
   "metadata": {},
   "source": [
    "Machine Learning Online Class - Exercise 1: Linear Regression\n",
    "\n",
    "Instructions\n",
    "------------\n",
    "\n",
    "This file contains code that helps you get started on the\n",
    "linear exercise. You will need to complete the following functions\n",
    "in this exericse:\n",
    "\n",
    "     warmUpExercise\n",
    "     plotData\n",
    "     gradientDescent\n",
    "     computeCost\n",
    "     gradientDescentMulti\n",
    "     computeCostMulti\n",
    "     featureNormalize\n",
    "     normalEqn\n",
    "\n",
    "For this exercise, you will not need to change any code in this file,\n",
    "or any other files other than those mentioned above.\n"
   ]
  },
  {
   "cell_type": "markdown",
   "metadata": {},
   "source": [
    "## warmUpExercise"
   ]
  },
  {
   "cell_type": "code",
   "execution_count": null,
   "metadata": {},
   "outputs": [],
   "source": [
    "import numpy as np"
   ]
  },
  {
   "cell_type": "code",
   "execution_count": null,
   "metadata": {},
   "outputs": [],
   "source": [
    "def warmUpExercise():\n",
    "    return(np.identity(5))"
   ]
  },
  {
   "cell_type": "code",
   "execution_count": null,
   "metadata": {},
   "outputs": [],
   "source": [
    "warmUpExercise()"
   ]
  },
  {
   "cell_type": "markdown",
   "metadata": {},
   "source": [
    "## Plotting the data"
   ]
  },
  {
   "cell_type": "code",
   "execution_count": null,
   "metadata": {},
   "outputs": [],
   "source": [
    "## Loading the data \n",
    "\n",
    "data_ext1 = np.loadtxt(\"../ex1/ex1data1.txt\", delimiter= \",\")"
   ]
  },
  {
   "cell_type": "code",
   "execution_count": null,
   "metadata": {},
   "outputs": [],
   "source": [
    "data_ext1[0:4]"
   ]
  },
  {
   "cell_type": "code",
   "execution_count": null,
   "metadata": {},
   "outputs": [],
   "source": [
    "X = np.c_[np.ones(data_ext1.shape[0]),data_ext1[:,0]]\n",
    "X[0:4]\n",
    "\n",
    "# A column of ones has been added to accomodate the theta0 term (intercept term)"
   ]
  },
  {
   "cell_type": "code",
   "execution_count": null,
   "metadata": {},
   "outputs": [],
   "source": [
    "y = np.c_[data_ext1[:,1]]\n",
    "y[0:4]"
   ]
  },
  {
   "cell_type": "code",
   "execution_count": null,
   "metadata": {},
   "outputs": [],
   "source": [
    "import matplotlib.pyplot as plt"
   ]
  },
  {
   "cell_type": "code",
   "execution_count": null,
   "metadata": {},
   "outputs": [],
   "source": [
    "plt.scatter(X[:,1], y, s=30, c='r', marker='x', linewidths=1)\n",
    "plt.xlim(4,24)\n",
    "plt.xlabel('Population of City in 10,000s')\n",
    "plt.ylabel('Profit in $10,000s');"
   ]
  },
  {
   "cell_type": "code",
   "execution_count": null,
   "metadata": {},
   "outputs": [],
   "source": [
    "import dill\n",
    "filename = 'globalsave.pkl'\n",
    "dill.dump_session(filename)"
   ]
  },
  {
   "cell_type": "markdown",
   "metadata": {},
   "source": [
    "## Gradient Descent"
   ]
  },
  {
   "cell_type": "markdown",
   "metadata": {},
   "source": [
    "### Compute Cost"
   ]
  },
  {
   "cell_type": "code",
   "execution_count": null,
   "metadata": {},
   "outputs": [],
   "source": [
    "def computeCost(X, y, theta):\n",
    "    \"\"\"\n",
    "    COMPUTECOST Compute cost for linear regression\n",
    "    J = COMPUTECOST(X, y, theta) computes the cost of using theta as the\n",
    "    parameter for linear regression to fit the data points in X and y\n",
    "    \"\"\"\n",
    "    # Initialize some useful values\n",
    "    m = y.shape[0] # number of training examples\n",
    "    \n",
    "    \n",
    "    # We need to return the following variables correctly \n",
    "    \n",
    "    J=0\n",
    "    \n",
    "    \"\"\"\n",
    "    ====================== OUR CODE HERE ======================\n",
    "    Instructions: Compute the cost of a particular choice of theta\n",
    "    We should set J to the cost.\n",
    "    \"\"\"\n",
    "    \n",
    "    J = np.sum(np.square(np.matmul(X,theta)-y))/(2*m)\n",
    "    \n",
    "    \n",
    "    return(J)\n",
    "    "
   ]
  },
  {
   "cell_type": "code",
   "execution_count": null,
   "metadata": {},
   "outputs": [],
   "source": [
    "computeCost(X,y,theta=[[0],[0]])\n",
    "\n",
    "## Expected cost value (approx) 32.07"
   ]
  },
  {
   "cell_type": "code",
   "execution_count": null,
   "metadata": {},
   "outputs": [],
   "source": [
    "# Checking compute cost for one more value\n",
    "\n",
    "computeCost(X,y,theta=[[-1],[2]])\n",
    "\n",
    "## Expected cost value (approx) 54.24, pretty close huh !!"
   ]
  },
  {
   "cell_type": "markdown",
   "metadata": {},
   "source": [
    "### Gradient Descent Code"
   ]
  },
  {
   "cell_type": "code",
   "execution_count": null,
   "metadata": {},
   "outputs": [],
   "source": [
    "def gradientDescent(X, y, theta, alpha, num_iters):\n",
    "    \"\"\"\n",
    "    GRADIENTDESCENT Performs gradient descent to learn theta\n",
    "    theta = GRADIENTDESCENT(X, y, theta, alpha, num_iters) updates theta by\n",
    "    taking num_iters gradient steps with learning rate alpha\n",
    "    \"\"\"\n",
    "    \n",
    "    m = y.shape[0]  ## Number of training examples\n",
    "    J_history = np.zeros(num_iters)  ## Initializing J to 0\n",
    "    \n",
    "    ## Starting the iterations\n",
    "    \n",
    "    for iteration in np.arange(num_iters):\n",
    "        \"\"\"\n",
    "        ====================== OUR CODE HERE ======================\n",
    "        Instructions: Perform a single gradient step on the parameter vector theta\n",
    "        \"\"\"\n",
    "        \n",
    "        theta = theta - (alpha/m)*np.transpose(np.matmul(np.transpose(np.matmul(X,theta)-y), X))\n",
    "        \n",
    "        ## Please note the importance of adding intercept term to X in the beginning\n",
    "        \n",
    "        J_history[iteration] = computeCost(X, y, theta)\n",
    "        \n",
    "    return(theta, J_history)\n",
    "    "
   ]
  },
  {
   "cell_type": "code",
   "execution_count": null,
   "metadata": {},
   "outputs": [],
   "source": [
    "## Check theta values as in the assignment\n",
    "\n",
    "theta , Cost_Iterations = gradientDescent(X, y, theta=[[0],[0]], alpha=0.01, num_iters=1500)\n",
    "\n",
    "print theta\n",
    "\n",
    "## Expected theta values (approx): -3.6303  1.1664"
   ]
  },
  {
   "cell_type": "code",
   "execution_count": null,
   "metadata": {},
   "outputs": [],
   "source": [
    "plt.plot(Cost_Iterations)\n",
    "plt.ylabel('Cost at each iteration')\n",
    "plt.xlabel('Iterations');"
   ]
  },
  {
   "cell_type": "code",
   "execution_count": null,
   "metadata": {},
   "outputs": [],
   "source": [
    "# Predict values for population sizes of 35,000 and 70,000\n",
    "\n",
    "predict1 = np.matmul([1, 3.5] ,theta)\n",
    "\n",
    "predict1"
   ]
  },
  {
   "cell_type": "code",
   "execution_count": null,
   "metadata": {},
   "outputs": [],
   "source": [
    "predict2 = np.matmul([1, 7] ,theta)\n",
    "\n",
    "predict2"
   ]
  },
  {
   "cell_type": "code",
   "execution_count": null,
   "metadata": {},
   "outputs": [],
   "source": []
  }
 ],
 "metadata": {
  "kernelspec": {
   "display_name": "AndrewNGCourse",
   "language": "python",
   "name": "andrewngcourse"
  },
  "language_info": {
   "codemirror_mode": {
    "name": "ipython",
    "version": 2
   },
   "file_extension": ".py",
   "mimetype": "text/x-python",
   "name": "python",
   "nbconvert_exporter": "python",
   "pygments_lexer": "ipython2",
   "version": "2.7.10"
  }
 },
 "nbformat": 4,
 "nbformat_minor": 2
}