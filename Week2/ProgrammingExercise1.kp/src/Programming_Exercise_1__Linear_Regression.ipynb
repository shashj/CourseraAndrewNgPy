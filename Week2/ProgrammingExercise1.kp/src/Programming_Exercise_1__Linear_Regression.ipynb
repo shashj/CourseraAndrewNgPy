{
 "cells": [
  {
   "cell_type": "raw",
   "metadata": {},
   "source": [
    "---\n",
    "title: Linear Regression - Programming Exercise 1\n",
    "authors:\n",
    "- Shashank Jatav\n",
    "tags:\n",
    "- coursera\n",
    "- andrew\n",
    "- machine_learning\n",
    "created_at: 2018-08-15\n",
    "updated_at: 2018-08-15\n",
    "tldr: This is a python implementation of the week 2 exercise in Andrew ng's course for machine learning\n",
    "---"
   ]
  },
  {
   "cell_type": "markdown",
   "metadata": {},
   "source": [
    "Machine Learning Online Class - Exercise 1: Linear Regression\n",
    "\n",
    "Instructions\n",
    "------------\n",
    "\n",
    "This file contains code that helps you get started on the\n",
    "linear exercise. You will need to complete the following functions\n",
    "in this exericse:\n",
    "\n",
    "     warmUpExercise\n",
    "     plotData\n",
    "     gradientDescent\n",
    "     computeCost\n",
    "     gradientDescentMulti\n",
    "     computeCostMulti\n",
    "     featureNormalize\n",
    "     normalEqn\n",
    "\n",
    "For this exercise, you will not need to change any code in this file,\n",
    "or any other files other than those mentioned above.\n"
   ]
  },
  {
   "cell_type": "markdown",
   "metadata": {},
   "source": [
    "## warmUpExercise"
   ]
  },
  {
   "cell_type": "code",
   "execution_count": null,
   "metadata": {},
   "outputs": [],
   "source": [
    "import numpy as np"
   ]
  },
  {
   "cell_type": "code",
   "execution_count": null,
   "metadata": {},
   "outputs": [],
   "source": [
    "def warmUpExercise():\n",
    "    return(np.identity(5))"
   ]
  },
  {
   "cell_type": "code",
   "execution_count": null,
   "metadata": {},
   "outputs": [],
   "source": [
    "warmUpExercise()"
   ]
  },
  {
   "cell_type": "markdown",
   "metadata": {},
   "source": [
    "## Plotting the data"
   ]
  },
  {
   "cell_type": "code",
   "execution_count": null,
   "metadata": {},
   "outputs": [],
   "source": [
    "## Loading the data \n",
    "\n",
    "data_ext1 = np.loadtxt(\"../ex1/ex1data1.txt\", delimiter= \",\")"
   ]
  },
  {
   "cell_type": "code",
   "execution_count": null,
   "metadata": {},
   "outputs": [],
   "source": [
    "data_ext1[0:4]"
   ]
  },
  {
   "cell_type": "code",
   "execution_count": null,
   "metadata": {},
   "outputs": [],
   "source": [
    "X = np.c_[np.ones(data_ext1.shape[0]),data_ext1[:,0]]\n",
    "X[0:4]\n",
    "\n",
    "# A column of ones has been added to accomodate the theta0 term (intercept term)"
   ]
  },
  {
   "cell_type": "code",
   "execution_count": null,
   "metadata": {},
   "outputs": [],
   "source": [
    "y = np.c_[data_ext1[:,1]]\n",
    "y[0:4]"
   ]
  },
  {
   "cell_type": "code",
   "execution_count": null,
   "metadata": {},
   "outputs": [],
   "source": [
    "import matplotlib.pyplot as plt"
   ]
  },
  {
   "cell_type": "code",
   "execution_count": null,
   "metadata": {},
   "outputs": [],
   "source": [
    "plt.scatter(X[:,1], y, s=30, c='r', marker='x', linewidths=1)\n",
    "plt.xlim(4,24)\n",
    "plt.xlabel('Population of City in 10,000s')\n",
    "plt.ylabel('Profit in $10,000s');"
   ]
  },
  {
   "cell_type": "code",
   "execution_count": null,
   "metadata": {},
   "outputs": [],
   "source": [
    "import dill\n",
    "filename = 'ProgrammingExercise1.pkl'\n",
    "dill.dump_session(filename)"
   ]
  },
  {
   "cell_type": "markdown",
   "metadata": {},
   "source": [
    "## Gradient Descent"
   ]
  },
  {
   "cell_type": "markdown",
   "metadata": {},
   "source": [
    "### Compute Cost"
   ]
  },
  {
   "cell_type": "code",
   "execution_count": null,
   "metadata": {},
   "outputs": [],
   "source": [
    "def computeCost(X, y, theta):\n",
    "    \"\"\"\n",
    "    COMPUTECOST Compute cost for linear regression\n",
    "    J = COMPUTECOST(X, y, theta) computes the cost of using theta as the\n",
    "    parameter for linear regression to fit the data points in X and y\n",
    "    \"\"\"\n",
    "    # Initialize some useful values\n",
    "    m = y.shape[0] # number of training examples\n",
    "    \n",
    "    \n",
    "    # We need to return the following variables correctly \n",
    "    \n",
    "    J=0\n",
    "    \n",
    "    \"\"\"\n",
    "    ====================== OUR CODE HERE ======================\n",
    "    Instructions: Compute the cost of a particular choice of theta\n",
    "    We should set J to the cost.\n",
    "    \"\"\"\n",
    "    \n",
    "    J = np.sum(np.square(np.matmul(X,theta)-y))/(2*m)\n",
    "    \n",
    "    \n",
    "    return(J)\n",
    "    "
   ]
  },
  {
   "cell_type": "code",
   "execution_count": null,
   "metadata": {},
   "outputs": [],
   "source": [
    "computeCost(X,y,theta=[[0],[0]])\n",
    "\n",
    "## Expected cost value (approx) 32.07"
   ]
  },
  {
   "cell_type": "code",
   "execution_count": null,
   "metadata": {},
   "outputs": [],
   "source": [
    "# Checking compute cost for one more value\n",
    "\n",
    "computeCost(X,y,theta=[[-1],[2]])\n",
    "\n",
    "## Expected cost value (approx) 54.24, pretty close huh !!"
   ]
  },
  {
   "cell_type": "markdown",
   "metadata": {},
   "source": [
    "### Gradient Descent Code"
   ]
  },
  {
   "cell_type": "code",
   "execution_count": null,
   "metadata": {},
   "outputs": [],
   "source": [
    "def gradientDescent(X, y, theta, alpha, num_iters):\n",
    "    \"\"\"\n",
    "    GRADIENTDESCENT Performs gradient descent to learn theta\n",
    "    theta = GRADIENTDESCENT(X, y, theta, alpha, num_iters) updates theta by\n",
    "    taking num_iters gradient steps with learning rate alpha\n",
    "    \"\"\"\n",
    "    \n",
    "    m = y.shape[0]  ## Number of training examples\n",
    "    J_history = np.zeros(num_iters)  ## Initializing J to 0\n",
    "    \n",
    "    ## Starting the iterations\n",
    "    \n",
    "    for iteration in np.arange(num_iters):\n",
    "        \"\"\"\n",
    "        ====================== OUR CODE HERE ======================\n",
    "        Instructions: Perform a single gradient step on the parameter vector theta\n",
    "        \"\"\"\n",
    "        \n",
    "        theta = theta - (alpha/m)*np.transpose(np.matmul(np.transpose(np.matmul(X,theta)-y), X))\n",
    "        \n",
    "        ## Please note the importance of adding intercept term to X in the beginning\n",
    "        \n",
    "        J_history[iteration] = computeCost(X, y, theta)\n",
    "        \n",
    "    return(theta, J_history)\n",
    "    "
   ]
  },
  {
   "cell_type": "code",
   "execution_count": null,
   "metadata": {},
   "outputs": [],
   "source": [
    "## Check theta values as in the assignment\n",
    "\n",
    "theta , Cost_Iterations = gradientDescent(X, y, theta=[[0],[0]], alpha=0.01, num_iters=1500)\n",
    "\n",
    "print theta\n",
    "\n",
    "## Expected theta values (approx): -3.6303  1.1664"
   ]
  },
  {
   "cell_type": "code",
   "execution_count": null,
   "metadata": {},
   "outputs": [],
   "source": [
    "plt.plot(Cost_Iterations)\n",
    "plt.ylabel('Cost at each iteration')\n",
    "plt.xlabel('Iterations');"
   ]
  },
  {
   "cell_type": "code",
   "execution_count": null,
   "metadata": {},
   "outputs": [],
   "source": [
    "# Predict values for population sizes of 35,000 and 70,000\n",
    "\n",
    "predict1 = np.matmul([1, 3.5] ,theta)\n",
    "\n",
    "predict1"
   ]
  },
  {
   "cell_type": "code",
   "execution_count": null,
   "metadata": {},
   "outputs": [],
   "source": [
    "predict2 = np.matmul([1, 7] ,theta)\n",
    "\n",
    "predict2"
   ]
  },
  {
   "cell_type": "markdown",
   "metadata": {},
   "source": [
    "## Visualizing the results"
   ]
  },
  {
   "cell_type": "code",
   "execution_count": null,
   "metadata": {},
   "outputs": [],
   "source": [
    "## Plotting the fitted line\n",
    "# Getting the relevant x and y coordinates\n",
    "\n",
    "xcoord = np.linspace(5,23)\n",
    "ycoord = theta[0] + theta[1]*xcoord # this is simply y = mx + c\n",
    "\n",
    "# Plot gradient descent\n",
    "plt.scatter(X[:,1], y, s=30, c='r', linewidths=1)\n",
    "plt.plot(xcoord,ycoord, label='Linear regression Gradient descent')"
   ]
  },
  {
   "cell_type": "markdown",
   "metadata": {},
   "source": [
    "### Visualizing J(theta_0, theta_1)"
   ]
  },
  {
   "cell_type": "code",
   "execution_count": null,
   "metadata": {},
   "outputs": [],
   "source": [
    "from mpl_toolkits.mplot3d import axes3d"
   ]
  },
  {
   "cell_type": "code",
   "execution_count": null,
   "metadata": {},
   "outputs": [],
   "source": [
    "# Grid over which we will calculate J\n",
    "\n",
    "theta0_vals = np.linspace(-10, 10, 100)\n",
    "theta1_vals = np.linspace(-1, 4, 100)\n",
    "\n",
    "Zvalues_J = np.zeros((theta0_vals.shape[0],theta1_vals.shape[0]))\n",
    "xxcoord, yycoord = np.meshgrid(theta0_vals, theta1_vals, indexing='xy') # my favourite function which has no such counterpart in R or maybe\n",
    "\n",
    "# Calculate Z-values (Cost) based on grid of coefficients\n",
    "for (i,j),v in np.ndenumerate(Zvalues_J):\n",
    "    Zvalues_J[i,j] = computeCost(X,y, theta=[[xxcoord[i,j]], [yycoord[i,j]]])\n",
    "    \n",
    "fig = plt.figure(figsize=(15,6))\n",
    "ax1 = fig.add_subplot(121)\n",
    "ax2 = fig.add_subplot(122, projection='3d')\n",
    "\n",
    "# Left plot\n",
    "CS = ax1.contour(xxcoord, yycoord, Zvalues_J, np.logspace(-2, 3, 20), cmap=plt.cm.jet)\n",
    "ax1.scatter(theta[0],theta[1], c='r')\n",
    "\n",
    "# Right plot\n",
    "ax2.plot_surface(xxcoord, yycoord, Zvalues_J, rstride=1, cstride=1, alpha=0.6, cmap=plt.cm.jet)\n",
    "ax2.set_zlabel('Cost')\n",
    "ax2.set_zlim(Zvalues_J.min(),Zvalues_J.max())\n",
    "ax2.view_init(elev=15, azim=230)\n",
    "\n",
    "# settings common to both plots\n",
    "for ax in fig.axes:\n",
    "    ax.set_xlabel(r'$\\theta_0$', fontsize=17)\n",
    "    ax.set_ylabel(r'$\\theta_1$', fontsize=17)"
   ]
  },
  {
   "cell_type": "code",
   "execution_count": null,
   "metadata": {},
   "outputs": [],
   "source": [
    "# Saving checkpoint\n",
    "import dill\n",
    "filename = 'ProgrammingExercise1.pkl'\n",
    "dill.dump_session(filename)"
   ]
  },
  {
   "cell_type": "markdown",
   "metadata": {},
   "source": [
    "## Linear Regression with multiple variables"
   ]
  },
  {
   "cell_type": "code",
   "execution_count": null,
   "metadata": {},
   "outputs": [],
   "source": [
    "## Reading the data\n",
    "\n",
    "data_ext2 = np.loadtxt(\"../ex1/ex1data2.txt\", delimiter= \",\")\n",
    "data_ext2[0:4]"
   ]
  },
  {
   "cell_type": "code",
   "execution_count": null,
   "metadata": {},
   "outputs": [],
   "source": [
    "## Getting the X and y vector\n",
    "\n",
    "X_multi = np.c_[np.ones(data_ext2.shape[0]),data_ext2[:,[0,1]]]\n",
    "X_multi[0:4]"
   ]
  },
  {
   "cell_type": "code",
   "execution_count": null,
   "metadata": {},
   "outputs": [],
   "source": [
    "y_multi = np.c_[data_ext2[:,2]]\n",
    "y_multi[0:4]"
   ]
  },
  {
   "cell_type": "code",
   "execution_count": null,
   "metadata": {},
   "outputs": [],
   "source": [
    "#Plot feature one to find out its scales\n",
    "plt.grid(True)\n",
    "plt.hist(X_multi[:,2],label = 'col2')\n",
    "plt.xlabel('Column Value')\n",
    "plt.ylabel('Counts');"
   ]
  },
  {
   "cell_type": "code",
   "execution_count": null,
   "metadata": {},
   "outputs": [],
   "source": [
    "plt.grid(True)\n",
    "plt.hist(X_multi[:,1],label = 'col2')\n",
    "plt.xlabel('Column Value')\n",
    "plt.ylabel('Counts');"
   ]
  },
  {
   "cell_type": "markdown",
   "metadata": {},
   "source": [
    "Clearly the data needs feature scaling and normalization"
   ]
  },
  {
   "cell_type": "code",
   "execution_count": null,
   "metadata": {},
   "outputs": [],
   "source": [
    "from sklearn.preprocessing import scale"
   ]
  },
  {
   "cell_type": "code",
   "execution_count": null,
   "metadata": {},
   "outputs": [],
   "source": [
    "\"\"\"\n",
    "FEATURENORMALIZE Normalizes the features in X\n",
    "FEATURENORMALIZE(X) returns a normalized version of X where\n",
    "the mean value of each feature is 0 and the standard deviation\n",
    "is 1. This is often a good preprocessing step to do when\n",
    "working with learning algorithms.\n",
    "\"\"\"\n",
    "X_multi_Norm = scale( X_multi, axis=0, with_mean=True, with_std=True, copy=True )\n",
    "X_multi_Norm[:,0] = np.ones(data_ext2.shape[0])\n",
    "X_multi_Norm"
   ]
  },
  {
   "cell_type": "code",
   "execution_count": null,
   "metadata": {},
   "outputs": [],
   "source": [
    "#Quick visualize the feature-normalized data\n",
    "plt.grid(True)\n",
    "plt.xlim([-5,5])\n",
    "dummy = plt.hist(X_multi_Norm[:,0],label = 'col1')\n",
    "dummy = plt.hist(X_multi_Norm[:,1],label = 'col2')\n",
    "dummy = plt.hist(X_multi_Norm[:,2],label = 'col3')\n",
    "plt.title('Feature Normalization Accomplished')\n",
    "plt.xlabel('Column Value')\n",
    "plt.ylabel('Counts')\n",
    "dummy = plt.legend()"
   ]
  },
  {
   "cell_type": "code",
   "execution_count": null,
   "metadata": {},
   "outputs": [],
   "source": []
  }
 ],
 "metadata": {
  "kernelspec": {
   "display_name": "AndrewNGCourse",
   "language": "python",
   "name": "andrewngcourse"
  },
  "language_info": {
   "codemirror_mode": {
    "name": "ipython",
    "version": 2
   },
   "file_extension": ".py",
   "mimetype": "text/x-python",
   "name": "python",
   "nbconvert_exporter": "python",
   "pygments_lexer": "ipython2",
   "version": "2.7.10"
  }
 },
 "nbformat": 4,
 "nbformat_minor": 2
}